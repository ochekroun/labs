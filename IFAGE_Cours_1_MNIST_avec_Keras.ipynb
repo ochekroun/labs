{
  "nbformat": 4,
  "nbformat_minor": 0,
  "metadata": {
    "colab": {
      "provenance": [],
      "gpuType": "T4",
      "include_colab_link": true
    },
    "kernelspec": {
      "name": "python3",
      "display_name": "Python 3"
    },
    "language_info": {
      "name": "python"
    },
    "accelerator": "GPU"
  },
  "cells": [
    {
      "cell_type": "markdown",
      "metadata": {
        "id": "view-in-github",
        "colab_type": "text"
      },
      "source": [
        "<a href=\"https://colab.research.google.com/github/ochekroun/labs/blob/master/IFAGE_Cours_1_MNIST_avec_Keras.ipynb\" target=\"_parent\"><img src=\"https://colab.research.google.com/assets/colab-badge.svg\" alt=\"Open In Colab\"/></a>"
      ]
    },
    {
      "cell_type": "markdown",
      "source": [
        "# 🔢 Reconnaitre des chiffres avec Keras\n",
        "\n",
        "Dans ce premier \"vrai\" notebook, nous allons entrainer un modèle pour reconnaitre les chiffres du dataset MNIST.\n",
        "\n",
        "Tiré de https://keras.io/examples/vision/mnist_convnet/"
      ],
      "metadata": {
        "id": "OMYOdyCz4UP2"
      }
    },
    {
      "cell_type": "markdown",
      "source": [
        "## Installation de Keras"
      ],
      "metadata": {
        "id": "0WaSsGhYIN8q"
      }
    },
    {
      "cell_type": "code",
      "source": [
        "!pip install -U keras"
      ],
      "metadata": {
        "id": "RzOuRQvc9S32"
      },
      "execution_count": null,
      "outputs": []
    },
    {
      "cell_type": "code",
      "source": [
        "# utilisons pytorch plutôt que tensorflow\n",
        "import os\n",
        "os.environ[\"KERAS_BACKEND\"] = \"torch\""
      ],
      "metadata": {
        "id": "6wdnnciy9_z0"
      },
      "execution_count": null,
      "outputs": []
    },
    {
      "cell_type": "markdown",
      "source": [
        "## Exploration du jeu de donnée"
      ],
      "metadata": {
        "id": "2BPh7XxRAbiv"
      }
    },
    {
      "cell_type": "code",
      "source": [
        "# importons la librairie keras et numpy\n",
        "import keras\n",
        "import numpy as np"
      ],
      "metadata": {
        "id": "KEXXS-sh7QfI"
      },
      "execution_count": null,
      "outputs": []
    },
    {
      "cell_type": "code",
      "source": [
        "# le jeu de donnée MNIST est disponible directement depuis Keras\n",
        "(x_train, y_train), (x_test, y_test) = keras.datasets.mnist.load_data()"
      ],
      "metadata": {
        "id": "RGSBufhC7QcY"
      },
      "execution_count": null,
      "outputs": []
    },
    {
      "cell_type": "code",
      "source": [
        "x_train.shape"
      ],
      "metadata": {
        "id": "NwwRZojc7QZ9"
      },
      "execution_count": null,
      "outputs": []
    },
    {
      "cell_type": "code",
      "source": [
        "y_train.shape"
      ],
      "metadata": {
        "id": "DK3PlxTQ7Twx"
      },
      "execution_count": null,
      "outputs": []
    },
    {
      "cell_type": "code",
      "source": [
        "y_train"
      ],
      "metadata": {
        "id": "qwtcpF6u7Tu0"
      },
      "execution_count": null,
      "outputs": []
    },
    {
      "cell_type": "code",
      "source": [
        "import matplotlib.pyplot as plt"
      ],
      "metadata": {
        "id": "hsfS92Qi8LDp"
      },
      "execution_count": null,
      "outputs": []
    },
    {
      "cell_type": "code",
      "source": [
        "x_train[0]"
      ],
      "metadata": {
        "id": "T4E6B8qaAvQ4"
      },
      "execution_count": null,
      "outputs": []
    },
    {
      "cell_type": "code",
      "source": [
        "plt.imshow(x_train[1], cmap=\"gray\")"
      ],
      "metadata": {
        "id": "CBcBE5298Jzy"
      },
      "execution_count": null,
      "outputs": []
    },
    {
      "cell_type": "markdown",
      "source": [
        "## Normalisation des données"
      ],
      "metadata": {
        "id": "ayKnlEqeApJu"
      }
    },
    {
      "cell_type": "code",
      "source": [
        "# Normalise les données pour être entre 0.0 et 1.0\n",
        "x_train = x_train.astype(\"float32\") / 255\n",
        "x_test = x_test.astype(\"float32\") / 255"
      ],
      "metadata": {
        "id": "6gDUZS_M9A5z"
      },
      "execution_count": null,
      "outputs": []
    },
    {
      "cell_type": "code",
      "source": [
        "x_train.shape"
      ],
      "metadata": {
        "id": "K0OD8FXtBE0-"
      },
      "execution_count": null,
      "outputs": []
    },
    {
      "cell_type": "code",
      "source": [
        "x_train[0]"
      ],
      "metadata": {
        "id": "oCbH7zyEBGoQ"
      },
      "execution_count": null,
      "outputs": []
    },
    {
      "cell_type": "markdown",
      "source": [
        "## Mise en forme des labels"
      ],
      "metadata": {
        "id": "plwxAElBBSgD"
      }
    },
    {
      "cell_type": "code",
      "source": [
        "y_train[0]"
      ],
      "metadata": {
        "id": "SiwWZKeNBVT2"
      },
      "execution_count": null,
      "outputs": []
    },
    {
      "cell_type": "code",
      "source": [
        "from keras.utils import to_categorical\n",
        "\n",
        "# nombre de classe de notre modèle\n",
        "num_classes = 10\n",
        "\n",
        "# on mets les données en forme avec l'encodage \"one-hot\"\n",
        "y_train = to_categorical(y_train, num_classes)\n",
        "y_test = to_categorical(y_test, num_classes)"
      ],
      "metadata": {
        "id": "XeHaie0LBOxo"
      },
      "execution_count": null,
      "outputs": []
    },
    {
      "cell_type": "code",
      "source": [
        "y_train[0]"
      ],
      "metadata": {
        "id": "Ue9roNdDC7lm"
      },
      "execution_count": null,
      "outputs": []
    },
    {
      "cell_type": "markdown",
      "source": [
        "## 🧠 Construction du modèle"
      ],
      "metadata": {
        "id": "TGKQS5uPDP5q"
      }
    },
    {
      "cell_type": "code",
      "source": [
        "from keras import layers\n",
        "\n",
        "model = keras.Sequential(\n",
        "    [\n",
        "        layers.Flatten(input_shape=(28, 28)),\n",
        "        layers.Dense(200, activation=\"relu\"),\n",
        "        layers.Dense(100, activation=\"relu\"),\n",
        "        layers.Dense(75, activation=\"relu\"),\n",
        "        layers.Dense(num_classes, activation=\"softmax\"),\n",
        "    ]\n",
        ")"
      ],
      "metadata": {
        "id": "aJHX7BbDBPKy"
      },
      "execution_count": null,
      "outputs": []
    },
    {
      "cell_type": "code",
      "source": [
        "28*28*200"
      ],
      "metadata": {
        "id": "imar4YOmSKy7"
      },
      "execution_count": null,
      "outputs": []
    },
    {
      "cell_type": "code",
      "source": [
        "# \"résumé\" de notre modèle\n",
        "model.summary()"
      ],
      "metadata": {
        "id": "eOYlsW-_DUO_"
      },
      "execution_count": null,
      "outputs": []
    },
    {
      "cell_type": "code",
      "source": [
        "model.compile(\n",
        "    loss=\"categorical_crossentropy\",\n",
        "    optimizer=\"adam\",\n",
        "    metrics=[\"accuracy\"]\n",
        ")"
      ],
      "metadata": {
        "id": "BOsfUcVvDhgv"
      },
      "execution_count": null,
      "outputs": []
    },
    {
      "cell_type": "code",
      "source": [
        "model.fit(\n",
        "    x_train, y_train,\n",
        "    batch_size=128,\n",
        "    epochs=3,\n",
        "    validation_split=0.1\n",
        ")"
      ],
      "metadata": {
        "id": "E4l8qnTJDVSN"
      },
      "execution_count": null,
      "outputs": []
    },
    {
      "cell_type": "code",
      "source": [
        "model.evaluate(x_test, y_test, verbose=0)"
      ],
      "metadata": {
        "id": "ZjkM5ZC2Du19"
      },
      "execution_count": null,
      "outputs": []
    },
    {
      "cell_type": "code",
      "source": [
        "score = model.evaluate(x_test, y_test, verbose=0)\n",
        "print(\"Test loss:\", score[0])\n",
        "print(\"Test accuracy:\", score[1])"
      ],
      "metadata": {
        "id": "xRn0dgVvDfEE"
      },
      "execution_count": null,
      "outputs": []
    },
    {
      "cell_type": "code",
      "source": [
        "for weigths in model.get_weights():\n",
        "  print(weigths.size)"
      ],
      "metadata": {
        "id": "wxVKInAPZmsE"
      },
      "execution_count": null,
      "outputs": []
    },
    {
      "cell_type": "markdown",
      "source": [
        "## Evaluation sur un example spécifique"
      ],
      "metadata": {
        "id": "zZbLA01yo-6r"
      }
    },
    {
      "cell_type": "code",
      "source": [
        "plt.imshow(x_test[0], cmap=\"gray\")"
      ],
      "metadata": {
        "id": "1WBqeMugGlrT"
      },
      "execution_count": null,
      "outputs": []
    },
    {
      "cell_type": "code",
      "source": [
        "# ceci ne marche pas - le modèle travaille sur plusieurs entrées à la fois !\n",
        "#prediction = model.predict(x_test[0])"
      ],
      "metadata": {
        "id": "soJVJbqwICXw"
      },
      "execution_count": null,
      "outputs": []
    },
    {
      "cell_type": "code",
      "source": [
        "# une des façons possible d'ajouter une dimension\n",
        "np.expand_dims(x_test[0], 0).shape"
      ],
      "metadata": {
        "id": "_euOySZ8H-Y1"
      },
      "execution_count": null,
      "outputs": []
    },
    {
      "cell_type": "code",
      "source": [
        "# une autre façon\n",
        "np.array([x_test[0]]).shape"
      ],
      "metadata": {
        "id": "8iLX4BMLFQGU"
      },
      "execution_count": null,
      "outputs": []
    },
    {
      "cell_type": "code",
      "source": [
        "# en utilisant l'une ou l'autre solution, on peut maintenant obtenir une prédiction\n",
        "prediction = model.predict(np.array([x_test[0]]))"
      ],
      "metadata": {
        "id": "XGzbZ8GcE2F9"
      },
      "execution_count": null,
      "outputs": []
    },
    {
      "cell_type": "code",
      "source": [
        "prediction"
      ],
      "metadata": {
        "id": "LmxuZUFnGVAc"
      },
      "execution_count": null,
      "outputs": []
    },
    {
      "cell_type": "code",
      "source": [
        "import matplotlib.pyplot as plt\n",
        "\n",
        "plt.bar(range(10), prediction[0], color='blue')\n",
        "plt.title('Prediction')\n",
        "plt.xticks(range(10))\n",
        "plt.xlabel('Digit')\n",
        "plt.ylabel('Probability')"
      ],
      "metadata": {
        "id": "fnV11ratHUPW"
      },
      "execution_count": null,
      "outputs": []
    },
    {
      "cell_type": "markdown",
      "source": [
        "## Calculons la perte selon le label"
      ],
      "metadata": {
        "id": "GGP7lgRtLi8i"
      }
    },
    {
      "cell_type": "code",
      "source": [
        "cce = keras.losses.CategoricalCrossentropy()"
      ],
      "metadata": {
        "id": "nDw0TwoGLsCS"
      },
      "execution_count": null,
      "outputs": []
    },
    {
      "cell_type": "code",
      "source": [
        "y_true = np.array([[0,0,0,0,0,0,0,1,0,0]])"
      ],
      "metadata": {
        "id": "jqJV1yC_Ud4p"
      },
      "execution_count": null,
      "outputs": []
    },
    {
      "cell_type": "code",
      "source": [
        "cce(prediction, y_true).item()"
      ],
      "metadata": {
        "id": "yLP2RSEcLBpF"
      },
      "execution_count": null,
      "outputs": []
    }
  ]
}