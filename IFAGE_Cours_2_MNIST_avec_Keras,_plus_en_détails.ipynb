{
  "cells": [
    {
      "cell_type": "markdown",
      "metadata": {
        "id": "view-in-github",
        "colab_type": "text"
      },
      "source": [
        "<a href=\"https://colab.research.google.com/github/ochekroun/labs/blob/master/IFAGE_Cours_2_MNIST_avec_Keras%2C_plus_en_d%C3%A9tails.ipynb\" target=\"_parent\"><img src=\"https://colab.research.google.com/assets/colab-badge.svg\" alt=\"Open In Colab\"/></a>"
      ]
    },
    {
      "cell_type": "markdown",
      "metadata": {
        "id": "OMYOdyCz4UP2"
      },
      "source": [
        "# 🔢 Reconnaitre des chiffres avec Keras\n",
        "\n",
        "**Deuxième version: avec un réseau de neurones à convolution, et monitorage en utilisant W&B.**\n"
      ]
    },
    {
      "cell_type": "markdown",
      "metadata": {
        "id": "0WaSsGhYIN8q"
      },
      "source": [
        "## Installation de Keras"
      ]
    },
    {
      "cell_type": "code",
      "execution_count": null,
      "metadata": {
        "id": "RzOuRQvc9S32"
      },
      "outputs": [],
      "source": [
        "!pip install -U keras"
      ]
    },
    {
      "cell_type": "code",
      "execution_count": null,
      "metadata": {
        "id": "6wdnnciy9_z0"
      },
      "outputs": [],
      "source": [
        "# utilisons pytorch plutôt que tensorflow\n",
        "import os\n",
        "os.environ[\"KERAS_BACKEND\"] = \"torch\""
      ]
    },
    {
      "cell_type": "markdown",
      "metadata": {
        "id": "2BPh7XxRAbiv"
      },
      "source": [
        "## Exploration du jeu de donnée"
      ]
    },
    {
      "cell_type": "code",
      "execution_count": null,
      "metadata": {
        "id": "KEXXS-sh7QfI"
      },
      "outputs": [],
      "source": [
        "import keras\n",
        "import numpy as np\n",
        "import matplotlib.pyplot as plt"
      ]
    },
    {
      "cell_type": "code",
      "execution_count": null,
      "metadata": {
        "id": "RGSBufhC7QcY"
      },
      "outputs": [],
      "source": [
        "(x_train, y_train), (x_test, y_test) = keras.datasets.mnist.load_data()"
      ]
    },
    {
      "cell_type": "code",
      "execution_count": null,
      "metadata": {
        "id": "Bi7eWDtFWRKX"
      },
      "outputs": [],
      "source": [
        "print(\"Dimension de x_train:\", x_train.shape)\n",
        "print(x_train.shape[0], \"images d'entrainement\")\n",
        "print(x_test.shape[0], \"images de test\")"
      ]
    },
    {
      "cell_type": "code",
      "execution_count": null,
      "metadata": {
        "id": "6gDUZS_M9A5z"
      },
      "outputs": [],
      "source": [
        "x_train = x_train.astype(\"float32\") / 255\n",
        "x_test = x_test.astype(\"float32\") / 255"
      ]
    },
    {
      "cell_type": "code",
      "execution_count": null,
      "metadata": {
        "id": "XeHaie0LBOxo"
      },
      "outputs": [],
      "source": [
        "from keras.utils import to_categorical\n",
        "\n",
        "# nombre de classe de notre modèle\n",
        "num_classes = 10\n",
        "\n",
        "# on mets les données en forme avec l'encodage \"one-hot\"\n",
        "y_train = to_categorical(y_train, num_classes)\n",
        "y_test = to_categorical(y_test, num_classes)"
      ]
    },
    {
      "cell_type": "markdown",
      "metadata": {
        "id": "Qd_yHkEqRMi3"
      },
      "source": [
        "## Création du modèle"
      ]
    },
    {
      "cell_type": "code",
      "execution_count": null,
      "metadata": {
        "id": "i4jExXM9ROY3"
      },
      "outputs": [],
      "source": [
        "from keras import layers"
      ]
    },
    {
      "cell_type": "code",
      "execution_count": null,
      "metadata": {
        "id": "LVS9YCb1RWMG"
      },
      "outputs": [],
      "source": [
        "# Réseau de neurones entièrement connecté\n",
        "model = keras.Sequential(\n",
        "    [\n",
        "        keras.Input(shape=(28, 28)),\n",
        "        layers.Flatten(),\n",
        "        layers.Dense(200, activation=\"relu\", name=\"Première couche\"),\n",
        "        layers.Dense(100, activation=\"relu\"),\n",
        "        layers.Dense(75, activation=\"relu\"),\n",
        "        layers.Dense(num_classes, activation=\"softmax\"),\n",
        "    ]\n",
        ")"
      ]
    },
    {
      "cell_type": "code",
      "execution_count": null,
      "metadata": {
        "id": "aJHX7BbDBPKy"
      },
      "outputs": [],
      "source": [
        "# Alternative: réseau de neurones à convolution\n",
        "model = keras.Sequential(\n",
        "    [\n",
        "        keras.Input(shape=(28, 28, 1)),\n",
        "        layers.Conv2D(32, kernel_size=(3, 3), activation=\"relu\"),\n",
        "        layers.MaxPooling2D(pool_size=(2, 2)),\n",
        "        layers.Conv2D(64, kernel_size=(3, 3), activation=\"relu\"),\n",
        "        layers.MaxPooling2D(pool_size=(2, 2)),\n",
        "        layers.Flatten(),\n",
        "        layers.Dropout(0.5),\n",
        "        layers.Dense(num_classes, activation=\"softmax\"),\n",
        "    ]\n",
        ")"
      ]
    },
    {
      "cell_type": "code",
      "execution_count": null,
      "metadata": {
        "id": "eOYlsW-_DUO_"
      },
      "outputs": [],
      "source": [
        "# \"résumé\" de notre modèle\n",
        "model.summary()"
      ]
    },
    {
      "cell_type": "code",
      "execution_count": null,
      "metadata": {
        "id": "BOsfUcVvDhgv"
      },
      "outputs": [],
      "source": [
        "model.compile(\n",
        "    loss=\"categorical_crossentropy\", # on veut optimiser la capacité de catégorisation du modèle\n",
        "    optimizer=\"adam\", # le \"moteur\" utilisé pour ajuster les paramètres\n",
        "    metrics=[\"accuracy\"] # ce qu'on veut monitorer: la \"précision\" du modèle\n",
        ")"
      ]
    },
    {
      "cell_type": "code",
      "execution_count": null,
      "metadata": {
        "id": "E4l8qnTJDVSN"
      },
      "outputs": [],
      "source": [
        "hist = model.fit(\n",
        "    x_train, y_train,\n",
        "    batch_size=128,\n",
        "    epochs=5,\n",
        "    validation_split=0.1\n",
        ")"
      ]
    },
    {
      "cell_type": "code",
      "execution_count": null,
      "metadata": {
        "id": "ZjkM5ZC2Du19"
      },
      "outputs": [],
      "source": [
        "model.evaluate(x_test, y_test)"
      ]
    },
    {
      "cell_type": "code",
      "execution_count": null,
      "metadata": {
        "id": "xRn0dgVvDfEE"
      },
      "outputs": [],
      "source": [
        "score = model.evaluate(x_test, y_test, verbose=0)\n",
        "print(\"Test loss:\", score[0])\n",
        "print(\"Test accuracy:\", score[1])"
      ]
    },
    {
      "cell_type": "markdown",
      "metadata": {
        "id": "jgy2m5c9aVo0"
      },
      "source": [
        "## Visualisons la progression de l'entrainement"
      ]
    },
    {
      "cell_type": "code",
      "execution_count": null,
      "metadata": {
        "id": "yqWswjnvaaCv"
      },
      "outputs": [],
      "source": [
        "def plot_hist(hist):\n",
        "    plt.plot(hist.history[\"accuracy\"])\n",
        "    plt.plot(hist.history[\"val_accuracy\"])\n",
        "    plt.title(\"model accuracy\")\n",
        "    plt.ylabel(\"accuracy\")\n",
        "    plt.xlabel(\"epoch\")\n",
        "    plt.ylim(0.97, 1.0)\n",
        "    plt.legend([\"train\", \"validation\"], loc=\"upper left\")\n",
        "    plt.show()"
      ]
    },
    {
      "cell_type": "code",
      "execution_count": null,
      "metadata": {
        "id": "YqnIYGdpaVYV"
      },
      "outputs": [],
      "source": [
        "plot_hist(hist)"
      ]
    },
    {
      "cell_type": "markdown",
      "metadata": {
        "id": "zZbLA01yo-6r"
      },
      "source": [
        "## Evaluation sur un example spécifique"
      ]
    },
    {
      "cell_type": "code",
      "execution_count": null,
      "metadata": {
        "id": "1WBqeMugGlrT"
      },
      "outputs": [],
      "source": [
        "to_test = x_test[1]\n",
        "plt.imshow(to_test, cmap=\"gray\")"
      ]
    },
    {
      "cell_type": "code",
      "execution_count": null,
      "metadata": {
        "id": "OThhwvfMZ4G2"
      },
      "outputs": [],
      "source": [
        "prediction = model.predict(np.array([to_test]))\n",
        "plt.bar(range(10), prediction[0], color='blue')\n",
        "plt.title('Prediction')\n",
        "plt.xticks(range(10))\n",
        "plt.xlabel('Digit')\n",
        "plt.ylabel('Probability')"
      ]
    },
    {
      "cell_type": "markdown",
      "metadata": {
        "id": "YnmMac7jUNJ4"
      },
      "source": [
        "## Monitorons l'entraînement avec W&B"
      ]
    },
    {
      "cell_type": "code",
      "execution_count": null,
      "metadata": {
        "id": "YGn7jPaqUPcI"
      },
      "outputs": [],
      "source": [
        "!pip install -U wandb"
      ]
    },
    {
      "cell_type": "code",
      "execution_count": null,
      "metadata": {
        "id": "-kC-7dljURtG"
      },
      "outputs": [],
      "source": [
        "import wandb\n",
        "from wandb.keras import WandbMetricsLogger"
      ]
    },
    {
      "cell_type": "code",
      "execution_count": null,
      "metadata": {
        "id": "Y-jwWagOUiq2"
      },
      "outputs": [],
      "source": [
        "wandb.login()"
      ]
    },
    {
      "cell_type": "code",
      "execution_count": null,
      "metadata": {
        "id": "1CqeFCl-UUJS"
      },
      "outputs": [],
      "source": [
        "run = wandb.init(\n",
        "    project = \"keras-mnist\",\n",
        "    config = {\n",
        "        \"batch_size\": BATCH_SIZE\n",
        "    }\n",
        ")\n",
        "\n",
        "hist = model.fit(\n",
        "    x_train, y_train,\n",
        "    batch_size=BATCH_SIZE,\n",
        "    epochs=5,\n",
        "    validation_split=0.1,\n",
        "    callbacks = [WandbMetricsLogger()]\n",
        ")\n",
        "\n",
        "run.finish()"
      ]
    }
  ],
  "metadata": {
    "accelerator": "GPU",
    "colab": {
      "gpuType": "T4",
      "provenance": [],
      "include_colab_link": true
    },
    "kernelspec": {
      "display_name": "Python 3",
      "name": "python3"
    },
    "language_info": {
      "name": "python"
    }
  },
  "nbformat": 4,
  "nbformat_minor": 0
}