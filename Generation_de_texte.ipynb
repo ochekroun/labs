{
  "nbformat": 4,
  "nbformat_minor": 0,
  "metadata": {
    "colab": {
      "provenance": [],
      "include_colab_link": true
    },
    "kernelspec": {
      "name": "python3",
      "display_name": "Python 3"
    },
    "language_info": {
      "name": "python"
    }
  },
  "cells": [
    {
      "cell_type": "markdown",
      "metadata": {
        "id": "view-in-github",
        "colab_type": "text"
      },
      "source": [
        "<a href=\"https://colab.research.google.com/github/ochekroun/labs/blob/master/Generation_de_texte.ipynb\" target=\"_parent\"><img src=\"https://colab.research.google.com/assets/colab-badge.svg\" alt=\"Open In Colab\"/></a>"
      ]
    },
    {
      "cell_type": "markdown",
      "source": [
        "## Préparation des données"
      ],
      "metadata": {
        "id": "sCvuWz_fUWmg"
      }
    },
    {
      "cell_type": "code",
      "source": [
        "!rm -r sample_data"
      ],
      "metadata": {
        "colab": {
          "base_uri": "https://localhost:8080/"
        },
        "id": "-M6sMKAHFIsi",
        "outputId": "0dd1eba5-cbca-4a69-a5e8-cfc5c3bd0306"
      },
      "execution_count": null,
      "outputs": [
        {
          "output_type": "stream",
          "name": "stdout",
          "text": [
            "rm: cannot remove 'sample_data': No such file or directory\n"
          ]
        }
      ]
    },
    {
      "cell_type": "code",
      "source": [
        "!ls -halt"
      ],
      "metadata": {
        "colab": {
          "base_uri": "https://localhost:8080/"
        },
        "id": "zJzafJKeGAMO",
        "outputId": "2e864aa4-8c71-471c-860c-48ad4cfa73a0"
      },
      "execution_count": null,
      "outputs": [
        {
          "output_type": "stream",
          "name": "stdout",
          "text": [
            "total 9.9M\n",
            "drwxr-xr-x 1 root root 4.0K May 14 17:31 .\n",
            "drwxr-xr-x 2 root root 4.0K May 14 17:19 .ipynb_checkpoints\n",
            "-rw-r--r-- 1 root root 9.9M May 14 17:16 prenoms.csv\n",
            "drwxr-xr-x 1 root root 4.0K May 14 17:09 ..\n",
            "drwxr-xr-x 4 root root 4.0K May 14 09:18 .config\n"
          ]
        }
      ]
    },
    {
      "cell_type": "code",
      "source": [
        "!head prenoms.csv"
      ],
      "metadata": {
        "colab": {
          "base_uri": "https://localhost:8080/"
        },
        "id": "7zSkT4rTKt5l",
        "outputId": "563a2173-f2b8-424e-8bb0-8fa2bf754cb7"
      },
      "execution_count": null,
      "outputs": [
        {
          "output_type": "stream",
          "name": "stdout",
          "text": [
            "year,name,sex,count\n",
            "1900,Abeline,F,3\n",
            "1900,Abelle,F,3\n",
            "1900,Ada,F,4\n",
            "1900,Adelaide,F,194\n",
            "1900,Adèle,F,661\n",
            "1900,Adelheid,F,3\n",
            "1900,Adelia,F,12\n",
            "1900,Adelie,F,3\n",
            "1900,Adelina,F,50\n"
          ]
        }
      ]
    },
    {
      "cell_type": "code",
      "source": [
        "import pandas as pd"
      ],
      "metadata": {
        "id": "2ue93L5uGy8H"
      },
      "execution_count": null,
      "outputs": []
    },
    {
      "cell_type": "code",
      "source": [
        "# on filtre, mélange etc les prénoms\n",
        "df = pd.read_csv('prenoms.csv')\n",
        "df['name'] = df['name'].str.lower()\n",
        "df = df.groupby('name', as_index=False).agg({'count': 'sum'})\n",
        "df = df[df['count'] >= 50]\n",
        "df = df.sample(frac=1.0)\n",
        "df = df[:100]\n",
        "\n",
        "df"
      ],
      "metadata": {
        "colab": {
          "base_uri": "https://localhost:8080/",
          "height": 423
        },
        "id": "s2LUOcmcHjvQ",
        "outputId": "733c3189-743d-4d9b-a378-05b104bc0e72"
      },
      "execution_count": null,
      "outputs": [
        {
          "output_type": "execute_result",
          "data": {
            "text/plain": [
              "          name  count\n",
              "4545    carima    198\n",
              "26919   shauna    465\n",
              "29723     ummu     60\n",
              "3461     aélya     68\n",
              "30517   yakine    407\n",
              "...        ...    ...\n",
              "3281     ayhan    551\n",
              "16843  loralie     67\n",
              "26672   sevann     59\n",
              "17121  louison   9066\n",
              "12674  jahyann    204\n",
              "\n",
              "[100 rows x 2 columns]"
            ],
            "text/html": [
              "\n",
              "  <div id=\"df-f9859ea1-fbe2-45c6-ab05-39cf5b916e10\" class=\"colab-df-container\">\n",
              "    <div>\n",
              "<style scoped>\n",
              "    .dataframe tbody tr th:only-of-type {\n",
              "        vertical-align: middle;\n",
              "    }\n",
              "\n",
              "    .dataframe tbody tr th {\n",
              "        vertical-align: top;\n",
              "    }\n",
              "\n",
              "    .dataframe thead th {\n",
              "        text-align: right;\n",
              "    }\n",
              "</style>\n",
              "<table border=\"1\" class=\"dataframe\">\n",
              "  <thead>\n",
              "    <tr style=\"text-align: right;\">\n",
              "      <th></th>\n",
              "      <th>name</th>\n",
              "      <th>count</th>\n",
              "    </tr>\n",
              "  </thead>\n",
              "  <tbody>\n",
              "    <tr>\n",
              "      <th>4545</th>\n",
              "      <td>carima</td>\n",
              "      <td>198</td>\n",
              "    </tr>\n",
              "    <tr>\n",
              "      <th>26919</th>\n",
              "      <td>shauna</td>\n",
              "      <td>465</td>\n",
              "    </tr>\n",
              "    <tr>\n",
              "      <th>29723</th>\n",
              "      <td>ummu</td>\n",
              "      <td>60</td>\n",
              "    </tr>\n",
              "    <tr>\n",
              "      <th>3461</th>\n",
              "      <td>aélya</td>\n",
              "      <td>68</td>\n",
              "    </tr>\n",
              "    <tr>\n",
              "      <th>30517</th>\n",
              "      <td>yakine</td>\n",
              "      <td>407</td>\n",
              "    </tr>\n",
              "    <tr>\n",
              "      <th>...</th>\n",
              "      <td>...</td>\n",
              "      <td>...</td>\n",
              "    </tr>\n",
              "    <tr>\n",
              "      <th>3281</th>\n",
              "      <td>ayhan</td>\n",
              "      <td>551</td>\n",
              "    </tr>\n",
              "    <tr>\n",
              "      <th>16843</th>\n",
              "      <td>loralie</td>\n",
              "      <td>67</td>\n",
              "    </tr>\n",
              "    <tr>\n",
              "      <th>26672</th>\n",
              "      <td>sevann</td>\n",
              "      <td>59</td>\n",
              "    </tr>\n",
              "    <tr>\n",
              "      <th>17121</th>\n",
              "      <td>louison</td>\n",
              "      <td>9066</td>\n",
              "    </tr>\n",
              "    <tr>\n",
              "      <th>12674</th>\n",
              "      <td>jahyann</td>\n",
              "      <td>204</td>\n",
              "    </tr>\n",
              "  </tbody>\n",
              "</table>\n",
              "<p>100 rows × 2 columns</p>\n",
              "</div>\n",
              "    <div class=\"colab-df-buttons\">\n",
              "\n",
              "  <div class=\"colab-df-container\">\n",
              "    <button class=\"colab-df-convert\" onclick=\"convertToInteractive('df-f9859ea1-fbe2-45c6-ab05-39cf5b916e10')\"\n",
              "            title=\"Convert this dataframe to an interactive table.\"\n",
              "            style=\"display:none;\">\n",
              "\n",
              "  <svg xmlns=\"http://www.w3.org/2000/svg\" height=\"24px\" viewBox=\"0 -960 960 960\">\n",
              "    <path d=\"M120-120v-720h720v720H120Zm60-500h600v-160H180v160Zm220 220h160v-160H400v160Zm0 220h160v-160H400v160ZM180-400h160v-160H180v160Zm440 0h160v-160H620v160ZM180-180h160v-160H180v160Zm440 0h160v-160H620v160Z\"/>\n",
              "  </svg>\n",
              "    </button>\n",
              "\n",
              "  <style>\n",
              "    .colab-df-container {\n",
              "      display:flex;\n",
              "      gap: 12px;\n",
              "    }\n",
              "\n",
              "    .colab-df-convert {\n",
              "      background-color: #E8F0FE;\n",
              "      border: none;\n",
              "      border-radius: 50%;\n",
              "      cursor: pointer;\n",
              "      display: none;\n",
              "      fill: #1967D2;\n",
              "      height: 32px;\n",
              "      padding: 0 0 0 0;\n",
              "      width: 32px;\n",
              "    }\n",
              "\n",
              "    .colab-df-convert:hover {\n",
              "      background-color: #E2EBFA;\n",
              "      box-shadow: 0px 1px 2px rgba(60, 64, 67, 0.3), 0px 1px 3px 1px rgba(60, 64, 67, 0.15);\n",
              "      fill: #174EA6;\n",
              "    }\n",
              "\n",
              "    .colab-df-buttons div {\n",
              "      margin-bottom: 4px;\n",
              "    }\n",
              "\n",
              "    [theme=dark] .colab-df-convert {\n",
              "      background-color: #3B4455;\n",
              "      fill: #D2E3FC;\n",
              "    }\n",
              "\n",
              "    [theme=dark] .colab-df-convert:hover {\n",
              "      background-color: #434B5C;\n",
              "      box-shadow: 0px 1px 3px 1px rgba(0, 0, 0, 0.15);\n",
              "      filter: drop-shadow(0px 1px 2px rgba(0, 0, 0, 0.3));\n",
              "      fill: #FFFFFF;\n",
              "    }\n",
              "  </style>\n",
              "\n",
              "    <script>\n",
              "      const buttonEl =\n",
              "        document.querySelector('#df-f9859ea1-fbe2-45c6-ab05-39cf5b916e10 button.colab-df-convert');\n",
              "      buttonEl.style.display =\n",
              "        google.colab.kernel.accessAllowed ? 'block' : 'none';\n",
              "\n",
              "      async function convertToInteractive(key) {\n",
              "        const element = document.querySelector('#df-f9859ea1-fbe2-45c6-ab05-39cf5b916e10');\n",
              "        const dataTable =\n",
              "          await google.colab.kernel.invokeFunction('convertToInteractive',\n",
              "                                                    [key], {});\n",
              "        if (!dataTable) return;\n",
              "\n",
              "        const docLinkHtml = 'Like what you see? Visit the ' +\n",
              "          '<a target=\"_blank\" href=https://colab.research.google.com/notebooks/data_table.ipynb>data table notebook</a>'\n",
              "          + ' to learn more about interactive tables.';\n",
              "        element.innerHTML = '';\n",
              "        dataTable['output_type'] = 'display_data';\n",
              "        await google.colab.output.renderOutput(dataTable, element);\n",
              "        const docLink = document.createElement('div');\n",
              "        docLink.innerHTML = docLinkHtml;\n",
              "        element.appendChild(docLink);\n",
              "      }\n",
              "    </script>\n",
              "  </div>\n",
              "\n",
              "\n",
              "<div id=\"df-2449186a-3cf6-4986-9d78-75202f82d8dd\">\n",
              "  <button class=\"colab-df-quickchart\" onclick=\"quickchart('df-2449186a-3cf6-4986-9d78-75202f82d8dd')\"\n",
              "            title=\"Suggest charts\"\n",
              "            style=\"display:none;\">\n",
              "\n",
              "<svg xmlns=\"http://www.w3.org/2000/svg\" height=\"24px\"viewBox=\"0 0 24 24\"\n",
              "     width=\"24px\">\n",
              "    <g>\n",
              "        <path d=\"M19 3H5c-1.1 0-2 .9-2 2v14c0 1.1.9 2 2 2h14c1.1 0 2-.9 2-2V5c0-1.1-.9-2-2-2zM9 17H7v-7h2v7zm4 0h-2V7h2v10zm4 0h-2v-4h2v4z\"/>\n",
              "    </g>\n",
              "</svg>\n",
              "  </button>\n",
              "\n",
              "<style>\n",
              "  .colab-df-quickchart {\n",
              "      --bg-color: #E8F0FE;\n",
              "      --fill-color: #1967D2;\n",
              "      --hover-bg-color: #E2EBFA;\n",
              "      --hover-fill-color: #174EA6;\n",
              "      --disabled-fill-color: #AAA;\n",
              "      --disabled-bg-color: #DDD;\n",
              "  }\n",
              "\n",
              "  [theme=dark] .colab-df-quickchart {\n",
              "      --bg-color: #3B4455;\n",
              "      --fill-color: #D2E3FC;\n",
              "      --hover-bg-color: #434B5C;\n",
              "      --hover-fill-color: #FFFFFF;\n",
              "      --disabled-bg-color: #3B4455;\n",
              "      --disabled-fill-color: #666;\n",
              "  }\n",
              "\n",
              "  .colab-df-quickchart {\n",
              "    background-color: var(--bg-color);\n",
              "    border: none;\n",
              "    border-radius: 50%;\n",
              "    cursor: pointer;\n",
              "    display: none;\n",
              "    fill: var(--fill-color);\n",
              "    height: 32px;\n",
              "    padding: 0;\n",
              "    width: 32px;\n",
              "  }\n",
              "\n",
              "  .colab-df-quickchart:hover {\n",
              "    background-color: var(--hover-bg-color);\n",
              "    box-shadow: 0 1px 2px rgba(60, 64, 67, 0.3), 0 1px 3px 1px rgba(60, 64, 67, 0.15);\n",
              "    fill: var(--button-hover-fill-color);\n",
              "  }\n",
              "\n",
              "  .colab-df-quickchart-complete:disabled,\n",
              "  .colab-df-quickchart-complete:disabled:hover {\n",
              "    background-color: var(--disabled-bg-color);\n",
              "    fill: var(--disabled-fill-color);\n",
              "    box-shadow: none;\n",
              "  }\n",
              "\n",
              "  .colab-df-spinner {\n",
              "    border: 2px solid var(--fill-color);\n",
              "    border-color: transparent;\n",
              "    border-bottom-color: var(--fill-color);\n",
              "    animation:\n",
              "      spin 1s steps(1) infinite;\n",
              "  }\n",
              "\n",
              "  @keyframes spin {\n",
              "    0% {\n",
              "      border-color: transparent;\n",
              "      border-bottom-color: var(--fill-color);\n",
              "      border-left-color: var(--fill-color);\n",
              "    }\n",
              "    20% {\n",
              "      border-color: transparent;\n",
              "      border-left-color: var(--fill-color);\n",
              "      border-top-color: var(--fill-color);\n",
              "    }\n",
              "    30% {\n",
              "      border-color: transparent;\n",
              "      border-left-color: var(--fill-color);\n",
              "      border-top-color: var(--fill-color);\n",
              "      border-right-color: var(--fill-color);\n",
              "    }\n",
              "    40% {\n",
              "      border-color: transparent;\n",
              "      border-right-color: var(--fill-color);\n",
              "      border-top-color: var(--fill-color);\n",
              "    }\n",
              "    60% {\n",
              "      border-color: transparent;\n",
              "      border-right-color: var(--fill-color);\n",
              "    }\n",
              "    80% {\n",
              "      border-color: transparent;\n",
              "      border-right-color: var(--fill-color);\n",
              "      border-bottom-color: var(--fill-color);\n",
              "    }\n",
              "    90% {\n",
              "      border-color: transparent;\n",
              "      border-bottom-color: var(--fill-color);\n",
              "    }\n",
              "  }\n",
              "</style>\n",
              "\n",
              "  <script>\n",
              "    async function quickchart(key) {\n",
              "      const quickchartButtonEl =\n",
              "        document.querySelector('#' + key + ' button');\n",
              "      quickchartButtonEl.disabled = true;  // To prevent multiple clicks.\n",
              "      quickchartButtonEl.classList.add('colab-df-spinner');\n",
              "      try {\n",
              "        const charts = await google.colab.kernel.invokeFunction(\n",
              "            'suggestCharts', [key], {});\n",
              "      } catch (error) {\n",
              "        console.error('Error during call to suggestCharts:', error);\n",
              "      }\n",
              "      quickchartButtonEl.classList.remove('colab-df-spinner');\n",
              "      quickchartButtonEl.classList.add('colab-df-quickchart-complete');\n",
              "    }\n",
              "    (() => {\n",
              "      let quickchartButtonEl =\n",
              "        document.querySelector('#df-2449186a-3cf6-4986-9d78-75202f82d8dd button');\n",
              "      quickchartButtonEl.style.display =\n",
              "        google.colab.kernel.accessAllowed ? 'block' : 'none';\n",
              "    })();\n",
              "  </script>\n",
              "</div>\n",
              "    </div>\n",
              "  </div>\n"
            ],
            "application/vnd.google.colaboratory.intrinsic+json": {
              "type": "dataframe",
              "variable_name": "df",
              "summary": "{\n  \"name\": \"df\",\n  \"rows\": 100,\n  \"fields\": [\n    {\n      \"column\": \"name\",\n      \"properties\": {\n        \"dtype\": \"string\",\n        \"num_unique_values\": 100,\n        \"samples\": [\n          \"janet\",\n          \"isiah\",\n          \"gwendolyne\"\n        ],\n        \"semantic_type\": \"\",\n        \"description\": \"\"\n      }\n    },\n    {\n      \"column\": \"count\",\n      \"properties\": {\n        \"dtype\": \"number\",\n        \"std\": 24759,\n        \"min\": 50,\n        \"max\": 175664,\n        \"num_unique_values\": 94,\n        \"samples\": [\n          98,\n          5975,\n          4349\n        ],\n        \"semantic_type\": \"\",\n        \"description\": \"\"\n      }\n    }\n  ]\n}"
            }
          },
          "metadata": {},
          "execution_count": 5
        }
      ]
    },
    {
      "cell_type": "code",
      "source": [
        "names = df['name'].tolist()"
      ],
      "metadata": {
        "id": "KH55dQi2Jugf"
      },
      "execution_count": null,
      "outputs": []
    },
    {
      "cell_type": "code",
      "source": [
        "len(names)"
      ],
      "metadata": {
        "colab": {
          "base_uri": "https://localhost:8080/"
        },
        "id": "FQUsUuXuLTAM",
        "outputId": "db619e45-60dd-482d-84be-72c0d3942258"
      },
      "execution_count": null,
      "outputs": [
        {
          "output_type": "execute_result",
          "data": {
            "text/plain": [
              "100"
            ]
          },
          "metadata": {},
          "execution_count": 7
        }
      ]
    },
    {
      "cell_type": "code",
      "source": [
        "# longueur max des prénoms\n",
        "max(len(name) for name in names)"
      ],
      "metadata": {
        "colab": {
          "base_uri": "https://localhost:8080/"
        },
        "id": "BNREyRF_L52l",
        "outputId": "fc828aea-d21b-4bcc-ef8e-99f11be17752"
      },
      "execution_count": null,
      "outputs": [
        {
          "output_type": "execute_result",
          "data": {
            "text/plain": [
              "13"
            ]
          },
          "metadata": {},
          "execution_count": 8
        }
      ]
    },
    {
      "cell_type": "code",
      "source": [
        "names"
      ],
      "metadata": {
        "colab": {
          "base_uri": "https://localhost:8080/"
        },
        "id": "FDnmo6PwMG5_",
        "outputId": "709c466f-5a9e-4a4c-e302-6a6e78ad0a69"
      },
      "execution_count": null,
      "outputs": [
        {
          "output_type": "execute_result",
          "data": {
            "text/plain": [
              "['carima',\n",
              " 'shauna',\n",
              " 'ummu',\n",
              " 'aélya',\n",
              " 'yakine',\n",
              " 'chadi',\n",
              " 'nesma',\n",
              " 'pharel',\n",
              " 'haoua',\n",
              " 'anne-clémence',\n",
              " 'jesse',\n",
              " 'rolande',\n",
              " 'maélyne',\n",
              " 'fidji',\n",
              " 'raïna',\n",
              " 'alann',\n",
              " 'noélya',\n",
              " 'drissia',\n",
              " 'armindo',\n",
              " 'bessma',\n",
              " 'youna',\n",
              " 'maïana',\n",
              " 'yael',\n",
              " 'dylann',\n",
              " 'colombe',\n",
              " 'rayann',\n",
              " 'benyamin',\n",
              " 'jean-claude',\n",
              " 'merve',\n",
              " 'calliopée',\n",
              " 'elder',\n",
              " 'elliott',\n",
              " 'radia',\n",
              " 'gilles',\n",
              " 'erkan',\n",
              " 'gwenhael',\n",
              " 'aurian',\n",
              " 'snezana',\n",
              " 'luka',\n",
              " 'belma',\n",
              " 'anasthase',\n",
              " 'kelsey',\n",
              " 'loélya',\n",
              " 'louisie',\n",
              " 'dolly',\n",
              " 'elhadj',\n",
              " 'izac',\n",
              " 'étienne',\n",
              " 'silvina',\n",
              " 'noredine',\n",
              " 'mari',\n",
              " 'gabie',\n",
              " 'ginger',\n",
              " 'isiah',\n",
              " 'maelwenn',\n",
              " 'konstantin',\n",
              " 'elyesa',\n",
              " 'lauryne',\n",
              " 'toussaint',\n",
              " 'sendy',\n",
              " 'jamina',\n",
              " 'gulsum',\n",
              " 'laëna',\n",
              " 'pedro',\n",
              " 'dannie',\n",
              " 'taissir',\n",
              " 'lyann',\n",
              " 'ouweys',\n",
              " 'eurydice',\n",
              " 'lévy',\n",
              " 'gwendolyne',\n",
              " 'amayas',\n",
              " 'minna',\n",
              " 'abdoulah',\n",
              " 'lidia',\n",
              " 'damiano',\n",
              " 'titia',\n",
              " 'mohamed-ali',\n",
              " 'ekrem',\n",
              " 'tahia',\n",
              " 'ilanna',\n",
              " 'smael',\n",
              " 'daline',\n",
              " 'janet',\n",
              " 'sofiya',\n",
              " 'ielena',\n",
              " 'aydenn',\n",
              " 'jovani',\n",
              " 'maellie',\n",
              " 'matéo',\n",
              " 'thiebault',\n",
              " 'jamela',\n",
              " 'maëlann',\n",
              " 'valeria',\n",
              " 'judickael',\n",
              " 'ayhan',\n",
              " 'loralie',\n",
              " 'sevann',\n",
              " 'louison',\n",
              " 'jahyann']"
            ]
          },
          "metadata": {},
          "execution_count": 9
        }
      ]
    },
    {
      "cell_type": "markdown",
      "source": [
        "## Bigrammes"
      ],
      "metadata": {
        "id": "GR3jrDDfUfk-"
      }
    },
    {
      "cell_type": "code",
      "source": [
        "# bigrammes\n",
        "bigrams = {}\n",
        "\n",
        "for name in names:\n",
        "  #print(name)\n",
        "  name = ['.'] + list(name) + ['.']\n",
        "  for l1,l2 in zip(name, name[1:]):\n",
        "    bigram = (l1,l2)\n",
        "    bigrams[bigram] = bigrams.get(bigram, 0) + 1\n",
        "    #print(l1, l2)"
      ],
      "metadata": {
        "id": "4APmWKYJNKEo"
      },
      "execution_count": null,
      "outputs": []
    },
    {
      "cell_type": "code",
      "source": [
        "# bigrammes triés par nombre d'occurences\n",
        "sorted(bigrams.items(), key=lambda kv:-1*kv[1])"
      ],
      "metadata": {
        "colab": {
          "base_uri": "https://localhost:8080/"
        },
        "id": "Gnc11I3QP1ZZ",
        "outputId": "44e95e80-f376-4c7b-a575-f7ce2baa593d"
      },
      "execution_count": null,
      "outputs": [
        {
          "output_type": "execute_result",
          "data": {
            "text/plain": [
              "[(('a', '.'), 29),\n",
              " (('a', 'n'), 22),\n",
              " (('e', '.'), 21),\n",
              " (('e', 'l'), 15),\n",
              " (('n', '.'), 15),\n",
              " (('n', 'n'), 14),\n",
              " (('m', 'a'), 13),\n",
              " (('n', 'a'), 12),\n",
              " (('y', 'a'), 11),\n",
              " (('i', 'n'), 11),\n",
              " (('n', 'e'), 11),\n",
              " (('.', 'a'), 10),\n",
              " (('l', 'a'), 10),\n",
              " (('.', 'm'), 10),\n",
              " (('.', 'l'), 10),\n",
              " (('h', 'a'), 9),\n",
              " (('e', 'n'), 9),\n",
              " (('i', 'a'), 9),\n",
              " (('l', 'y'), 8),\n",
              " (('.', 'j'), 8),\n",
              " (('i', 'e'), 8),\n",
              " (('.', 's'), 7),\n",
              " (('o', 'u'), 7),\n",
              " (('l', 'i'), 7),\n",
              " (('.', 'e'), 7),\n",
              " (('d', 'i'), 6),\n",
              " (('a', 'l'), 6),\n",
              " (('.', 'd'), 6),\n",
              " (('a', 'e'), 6),\n",
              " (('a', 'm'), 6),\n",
              " (('.', 'g'), 6),\n",
              " (('r', 'i'), 5),\n",
              " (('a', 'u'), 5),\n",
              " (('i', '.'), 5),\n",
              " (('e', 's'), 5),\n",
              " (('l', '.'), 5),\n",
              " (('s', 's'), 5),\n",
              " (('s', 'e'), 5),\n",
              " (('i', 's'), 5),\n",
              " (('s', 'i'), 5),\n",
              " (('m', 'i'), 5),\n",
              " (('l', 'o'), 5),\n",
              " (('e', 'r'), 5),\n",
              " (('l', 'l'), 5),\n",
              " (('.', 't'), 5),\n",
              " (('.', 'c'), 4),\n",
              " (('a', 'r'), 4),\n",
              " (('é', 'l'), 4),\n",
              " (('m', 'e'), 4),\n",
              " (('.', 'r'), 4),\n",
              " (('o', 'l'), 4),\n",
              " (('n', 'd'), 4),\n",
              " (('d', 'e'), 4),\n",
              " (('r', 'a'), 4),\n",
              " (('d', 'o'), 4),\n",
              " (('o', '.'), 4),\n",
              " (('b', 'e'), 4),\n",
              " (('a', 'y'), 4),\n",
              " (('t', '.'), 4),\n",
              " (('w', 'e'), 4),\n",
              " (('y', '.'), 4),\n",
              " (('.', 'i'), 4),\n",
              " (('t', 'i'), 4),\n",
              " (('a', 'h'), 4),\n",
              " (('j', 'a'), 4),\n",
              " (('.', 'y'), 3),\n",
              " (('a', 'd'), 3),\n",
              " (('.', 'n'), 3),\n",
              " (('s', 'm'), 3),\n",
              " (('r', 'e'), 3),\n",
              " (('y', 'n'), 3),\n",
              " (('n', 'o'), 3),\n",
              " (('.', 'b'), 3),\n",
              " (('r', '.'), 3),\n",
              " (('i', 'l'), 3),\n",
              " (('l', 'e'), 3),\n",
              " (('s', '.'), 3),\n",
              " (('k', 'a'), 3),\n",
              " (('u', 'r'), 3),\n",
              " (('a', 's'), 3),\n",
              " (('e', 'd'), 3),\n",
              " (('t', 'a'), 3),\n",
              " (('u', 'l'), 3),\n",
              " (('d', 'a'), 3),\n",
              " (('v', 'a'), 3),\n",
              " (('c', 'a'), 2),\n",
              " (('u', 'n'), 2),\n",
              " (('u', 'm'), 2),\n",
              " (('a', 'é'), 2),\n",
              " (('.', 'p'), 2),\n",
              " (('-', 'c'), 2),\n",
              " (('c', 'l'), 2),\n",
              " (('l', 'é'), 2),\n",
              " (('c', 'e'), 2),\n",
              " (('j', 'e'), 2),\n",
              " (('r', 'o'), 2),\n",
              " (('f', 'i'), 2),\n",
              " (('i', 'd'), 2),\n",
              " (('d', 'j'), 2),\n",
              " (('a', 'ï'), 2),\n",
              " (('o', 'é'), 2),\n",
              " (('d', 'r'), 2),\n",
              " (('d', 'y'), 2),\n",
              " (('u', 'd'), 2),\n",
              " (('i', 'o'), 2),\n",
              " (('g', 'i'), 2),\n",
              " (('g', 'w'), 2),\n",
              " (('z', 'a'), 2),\n",
              " (('s', 't'), 2),\n",
              " (('t', 'h'), 2),\n",
              " (('.', 'k'), 2),\n",
              " (('l', 's'), 2),\n",
              " (('e', 'y'), 2),\n",
              " (('u', 'i'), 2),\n",
              " (('o', 'r'), 2),\n",
              " (('a', 'b'), 2),\n",
              " (('h', '.'), 2),\n",
              " (('o', 'n'), 2),\n",
              " (('n', 't'), 2),\n",
              " (('s', 'a'), 2),\n",
              " (('r', 'y'), 2),\n",
              " (('a', 'i'), 2),\n",
              " (('m', '.'), 2),\n",
              " (('a', 'ë'), 2),\n",
              " (('n', 'i'), 2),\n",
              " (('y', 'd'), 2),\n",
              " (('i', 'c'), 2),\n",
              " (('h', 'i'), 2),\n",
              " (('s', 'o'), 2),\n",
              " (('i', 'm'), 1),\n",
              " (('s', 'h'), 1),\n",
              " (('.', 'u'), 1),\n",
              " (('m', 'm'), 1),\n",
              " (('m', 'u'), 1),\n",
              " (('u', '.'), 1),\n",
              " (('a', 'k'), 1),\n",
              " (('k', 'i'), 1),\n",
              " (('c', 'h'), 1),\n",
              " (('p', 'h'), 1),\n",
              " (('.', 'h'), 1),\n",
              " (('a', 'o'), 1),\n",
              " (('u', 'a'), 1),\n",
              " (('e', '-'), 1),\n",
              " (('é', 'm'), 1),\n",
              " (('n', 'c'), 1),\n",
              " (('.', 'f'), 1),\n",
              " (('j', 'i'), 1),\n",
              " (('ï', 'n'), 1),\n",
              " (('r', 'm'), 1),\n",
              " (('y', 'o'), 1),\n",
              " (('ï', 'a'), 1),\n",
              " (('y', 'l'), 1),\n",
              " (('c', 'o'), 1),\n",
              " (('o', 'm'), 1),\n",
              " (('m', 'b'), 1),\n",
              " (('n', 'y'), 1),\n",
              " (('e', 'a'), 1),\n",
              " (('n', '-'), 1),\n",
              " (('r', 'v'), 1),\n",
              " (('v', 'e'), 1),\n",
              " (('o', 'p'), 1),\n",
              " (('p', 'é'), 1),\n",
              " (('é', 'e'), 1),\n",
              " (('l', 'd'), 1),\n",
              " (('o', 't'), 1),\n",
              " (('t', 't'), 1),\n",
              " (('r', 'k'), 1),\n",
              " (('n', 'h'), 1),\n",
              " (('s', 'n'), 1),\n",
              " (('e', 'z'), 1),\n",
              " (('l', 'u'), 1),\n",
              " (('u', 'k'), 1),\n",
              " (('l', 'm'), 1),\n",
              " (('k', 'e'), 1),\n",
              " (('l', 'h'), 1),\n",
              " (('j', '.'), 1),\n",
              " (('i', 'z'), 1),\n",
              " (('a', 'c'), 1),\n",
              " (('c', '.'), 1),\n",
              " (('.', 'é'), 1),\n",
              " (('é', 't'), 1),\n",
              " (('l', 'v'), 1),\n",
              " (('v', 'i'), 1),\n",
              " (('g', 'a'), 1),\n",
              " (('b', 'i'), 1),\n",
              " (('n', 'g'), 1),\n",
              " (('g', 'e'), 1),\n",
              " (('l', 'w'), 1),\n",
              " (('k', 'o'), 1),\n",
              " (('n', 's'), 1),\n",
              " (('y', 'e'), 1),\n",
              " (('t', 'o'), 1),\n",
              " (('u', 's'), 1),\n",
              " (('g', 'u'), 1),\n",
              " (('s', 'u'), 1),\n",
              " (('ë', 'n'), 1),\n",
              " (('p', 'e'), 1),\n",
              " (('i', 'r'), 1),\n",
              " (('.', 'o'), 1),\n",
              " (('u', 'w'), 1),\n",
              " (('y', 's'), 1),\n",
              " (('e', 'u'), 1),\n",
              " (('é', 'v'), 1),\n",
              " (('v', 'y'), 1),\n",
              " (('b', 'd'), 1),\n",
              " (('i', 't'), 1),\n",
              " (('m', 'o'), 1),\n",
              " (('o', 'h'), 1),\n",
              " (('d', '-'), 1),\n",
              " (('-', 'a'), 1),\n",
              " (('e', 'k'), 1),\n",
              " (('k', 'r'), 1),\n",
              " (('e', 'm'), 1),\n",
              " (('e', 't'), 1),\n",
              " (('o', 'f'), 1),\n",
              " (('i', 'y'), 1),\n",
              " (('j', 'o'), 1),\n",
              " (('o', 'v'), 1),\n",
              " (('a', 't'), 1),\n",
              " (('t', 'é'), 1),\n",
              " (('é', 'o'), 1),\n",
              " (('e', 'b'), 1),\n",
              " (('b', 'a'), 1),\n",
              " (('l', 't'), 1),\n",
              " (('ë', 'l'), 1),\n",
              " (('.', 'v'), 1),\n",
              " (('j', 'u'), 1),\n",
              " (('c', 'k'), 1),\n",
              " (('y', 'h'), 1),\n",
              " (('e', 'v'), 1),\n",
              " (('h', 'y'), 1)]"
            ]
          },
          "metadata": {},
          "execution_count": 21
        }
      ]
    },
    {
      "cell_type": "markdown",
      "source": [
        "## PyTorch"
      ],
      "metadata": {
        "id": "DdN3aYc-Uoy1"
      }
    },
    {
      "cell_type": "code",
      "source": [
        "import torch"
      ],
      "metadata": {
        "id": "zhZ90aAOQmTB"
      },
      "execution_count": null,
      "outputs": []
    },
    {
      "cell_type": "code",
      "source": [
        "# on fait la liste de tous les caractères dans nos prénoms\n",
        "chars = sorted(list(set(''.join(names))))"
      ],
      "metadata": {
        "id": "mMKGreAYRw7H"
      },
      "execution_count": null,
      "outputs": []
    },
    {
      "cell_type": "code",
      "source": [
        "# mapping de chaque caractère à un index dans le tableau\n",
        "# on rajoute le caractère \".\" à la main\n",
        "char_to_index = {s:i+1 for i,s in enumerate(chars)}\n",
        "char_to_index['.'] = 0\n",
        "char_to_index\n",
        "\n",
        "nb_chars = len(char_to_index)\n",
        "print(f\"Nombre total de caractères: {nb_chars}\")"
      ],
      "metadata": {
        "colab": {
          "base_uri": "https://localhost:8080/"
        },
        "id": "yLuK53mfSH0v",
        "outputId": "5967917d-578e-4542-b1d4-c045ee892992"
      },
      "execution_count": null,
      "outputs": [
        {
          "output_type": "stream",
          "name": "stdout",
          "text": [
            "Nombre total de caractères: 29\n"
          ]
        }
      ]
    },
    {
      "cell_type": "code",
      "source": [
        "# On crée notre tenseur (= tableau) pour y placer nos compteurs d'occurence\n",
        "N = torch.zeros((nb_chars, nb_chars), dtype=torch.int32)\n",
        "N"
      ],
      "metadata": {
        "colab": {
          "base_uri": "https://localhost:8080/"
        },
        "id": "u4BUVvZJSPX2",
        "outputId": "9414f14c-0d89-40dc-85c8-f94a3a977ed9"
      },
      "execution_count": null,
      "outputs": [
        {
          "output_type": "execute_result",
          "data": {
            "text/plain": [
              "tensor([[0, 0, 0, 0, 0, 0, 0, 0, 0, 0, 0, 0, 0, 0, 0, 0, 0, 0, 0, 0, 0, 0, 0, 0,\n",
              "         0, 0, 0, 0, 0],\n",
              "        [0, 0, 0, 0, 0, 0, 0, 0, 0, 0, 0, 0, 0, 0, 0, 0, 0, 0, 0, 0, 0, 0, 0, 0,\n",
              "         0, 0, 0, 0, 0],\n",
              "        [0, 0, 0, 0, 0, 0, 0, 0, 0, 0, 0, 0, 0, 0, 0, 0, 0, 0, 0, 0, 0, 0, 0, 0,\n",
              "         0, 0, 0, 0, 0],\n",
              "        [0, 0, 0, 0, 0, 0, 0, 0, 0, 0, 0, 0, 0, 0, 0, 0, 0, 0, 0, 0, 0, 0, 0, 0,\n",
              "         0, 0, 0, 0, 0],\n",
              "        [0, 0, 0, 0, 0, 0, 0, 0, 0, 0, 0, 0, 0, 0, 0, 0, 0, 0, 0, 0, 0, 0, 0, 0,\n",
              "         0, 0, 0, 0, 0],\n",
              "        [0, 0, 0, 0, 0, 0, 0, 0, 0, 0, 0, 0, 0, 0, 0, 0, 0, 0, 0, 0, 0, 0, 0, 0,\n",
              "         0, 0, 0, 0, 0],\n",
              "        [0, 0, 0, 0, 0, 0, 0, 0, 0, 0, 0, 0, 0, 0, 0, 0, 0, 0, 0, 0, 0, 0, 0, 0,\n",
              "         0, 0, 0, 0, 0],\n",
              "        [0, 0, 0, 0, 0, 0, 0, 0, 0, 0, 0, 0, 0, 0, 0, 0, 0, 0, 0, 0, 0, 0, 0, 0,\n",
              "         0, 0, 0, 0, 0],\n",
              "        [0, 0, 0, 0, 0, 0, 0, 0, 0, 0, 0, 0, 0, 0, 0, 0, 0, 0, 0, 0, 0, 0, 0, 0,\n",
              "         0, 0, 0, 0, 0],\n",
              "        [0, 0, 0, 0, 0, 0, 0, 0, 0, 0, 0, 0, 0, 0, 0, 0, 0, 0, 0, 0, 0, 0, 0, 0,\n",
              "         0, 0, 0, 0, 0],\n",
              "        [0, 0, 0, 0, 0, 0, 0, 0, 0, 0, 0, 0, 0, 0, 0, 0, 0, 0, 0, 0, 0, 0, 0, 0,\n",
              "         0, 0, 0, 0, 0],\n",
              "        [0, 0, 0, 0, 0, 0, 0, 0, 0, 0, 0, 0, 0, 0, 0, 0, 0, 0, 0, 0, 0, 0, 0, 0,\n",
              "         0, 0, 0, 0, 0],\n",
              "        [0, 0, 0, 0, 0, 0, 0, 0, 0, 0, 0, 0, 0, 0, 0, 0, 0, 0, 0, 0, 0, 0, 0, 0,\n",
              "         0, 0, 0, 0, 0],\n",
              "        [0, 0, 0, 0, 0, 0, 0, 0, 0, 0, 0, 0, 0, 0, 0, 0, 0, 0, 0, 0, 0, 0, 0, 0,\n",
              "         0, 0, 0, 0, 0],\n",
              "        [0, 0, 0, 0, 0, 0, 0, 0, 0, 0, 0, 0, 0, 0, 0, 0, 0, 0, 0, 0, 0, 0, 0, 0,\n",
              "         0, 0, 0, 0, 0],\n",
              "        [0, 0, 0, 0, 0, 0, 0, 0, 0, 0, 0, 0, 0, 0, 0, 0, 0, 0, 0, 0, 0, 0, 0, 0,\n",
              "         0, 0, 0, 0, 0],\n",
              "        [0, 0, 0, 0, 0, 0, 0, 0, 0, 0, 0, 0, 0, 0, 0, 0, 0, 0, 0, 0, 0, 0, 0, 0,\n",
              "         0, 0, 0, 0, 0],\n",
              "        [0, 0, 0, 0, 0, 0, 0, 0, 0, 0, 0, 0, 0, 0, 0, 0, 0, 0, 0, 0, 0, 0, 0, 0,\n",
              "         0, 0, 0, 0, 0],\n",
              "        [0, 0, 0, 0, 0, 0, 0, 0, 0, 0, 0, 0, 0, 0, 0, 0, 0, 0, 0, 0, 0, 0, 0, 0,\n",
              "         0, 0, 0, 0, 0],\n",
              "        [0, 0, 0, 0, 0, 0, 0, 0, 0, 0, 0, 0, 0, 0, 0, 0, 0, 0, 0, 0, 0, 0, 0, 0,\n",
              "         0, 0, 0, 0, 0],\n",
              "        [0, 0, 0, 0, 0, 0, 0, 0, 0, 0, 0, 0, 0, 0, 0, 0, 0, 0, 0, 0, 0, 0, 0, 0,\n",
              "         0, 0, 0, 0, 0],\n",
              "        [0, 0, 0, 0, 0, 0, 0, 0, 0, 0, 0, 0, 0, 0, 0, 0, 0, 0, 0, 0, 0, 0, 0, 0,\n",
              "         0, 0, 0, 0, 0],\n",
              "        [0, 0, 0, 0, 0, 0, 0, 0, 0, 0, 0, 0, 0, 0, 0, 0, 0, 0, 0, 0, 0, 0, 0, 0,\n",
              "         0, 0, 0, 0, 0],\n",
              "        [0, 0, 0, 0, 0, 0, 0, 0, 0, 0, 0, 0, 0, 0, 0, 0, 0, 0, 0, 0, 0, 0, 0, 0,\n",
              "         0, 0, 0, 0, 0],\n",
              "        [0, 0, 0, 0, 0, 0, 0, 0, 0, 0, 0, 0, 0, 0, 0, 0, 0, 0, 0, 0, 0, 0, 0, 0,\n",
              "         0, 0, 0, 0, 0],\n",
              "        [0, 0, 0, 0, 0, 0, 0, 0, 0, 0, 0, 0, 0, 0, 0, 0, 0, 0, 0, 0, 0, 0, 0, 0,\n",
              "         0, 0, 0, 0, 0],\n",
              "        [0, 0, 0, 0, 0, 0, 0, 0, 0, 0, 0, 0, 0, 0, 0, 0, 0, 0, 0, 0, 0, 0, 0, 0,\n",
              "         0, 0, 0, 0, 0],\n",
              "        [0, 0, 0, 0, 0, 0, 0, 0, 0, 0, 0, 0, 0, 0, 0, 0, 0, 0, 0, 0, 0, 0, 0, 0,\n",
              "         0, 0, 0, 0, 0],\n",
              "        [0, 0, 0, 0, 0, 0, 0, 0, 0, 0, 0, 0, 0, 0, 0, 0, 0, 0, 0, 0, 0, 0, 0, 0,\n",
              "         0, 0, 0, 0, 0]], dtype=torch.int32)"
            ]
          },
          "metadata": {},
          "execution_count": 25
        }
      ]
    },
    {
      "cell_type": "code",
      "source": [],
      "metadata": {
        "id": "w-UFrhaWVAqb"
      },
      "execution_count": null,
      "outputs": []
    },
    {
      "cell_type": "code",
      "source": [],
      "metadata": {
        "id": "xrjWJv50VAom"
      },
      "execution_count": null,
      "outputs": []
    },
    {
      "cell_type": "code",
      "source": [],
      "metadata": {
        "id": "cBpt-dGrVAmh"
      },
      "execution_count": null,
      "outputs": []
    },
    {
      "cell_type": "code",
      "source": [],
      "metadata": {
        "id": "gH55Oz8BStGK"
      },
      "execution_count": null,
      "outputs": []
    },
    {
      "cell_type": "code",
      "source": [],
      "metadata": {
        "id": "A3_6EOdrStEF"
      },
      "execution_count": null,
      "outputs": []
    },
    {
      "cell_type": "code",
      "source": [],
      "metadata": {
        "id": "eSOUYQTiSs6f"
      },
      "execution_count": null,
      "outputs": []
    }
  ]
}